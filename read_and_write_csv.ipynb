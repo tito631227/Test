{
  "nbformat": 4,
  "nbformat_minor": 0,
  "metadata": {
    "colab": {
      "provenance": [],
      "authorship_tag": "ABX9TyOGpHOBOah3Dokjn0yvtoLQ",
      "include_colab_link": true
    },
    "kernelspec": {
      "name": "python3",
      "display_name": "Python 3"
    },
    "language_info": {
      "name": "python"
    }
  },
  "cells": [
    {
      "cell_type": "markdown",
      "metadata": {
        "id": "view-in-github",
        "colab_type": "text"
      },
      "source": [
        "<a href=\"https://colab.research.google.com/github/tito631227/Test/blob/master/read_and_write_csv.ipynb\" target=\"_parent\"><img src=\"https://colab.research.google.com/assets/colab-badge.svg\" alt=\"Open In Colab\"/></a>"
      ]
    },
    {
      "cell_type": "code",
      "execution_count": 1,
      "metadata": {
        "id": "T_UTHQxAFbL0"
      },
      "outputs": [],
      "source": [
        "with open('sample.csv', 'w', newline='', encoding='utf-8') as f:\n",
        "  f.write(\"name,age,city\\n\")\n",
        "  f.write(\"Taro,23,Tokyo\\n\")\n",
        "  f.write(\"Hanako,31,Osaka\\n\")\n",
        "  f.write(\"Jiro,27,Nagoya\\n\")"
      ]
    },
    {
      "cell_type": "code",
      "source": [
        "import csv\n",
        "\n",
        "with open('sample.csv', newline='', encoding='utf-8') as f:\n",
        "  reader = csv.DictReader(f)\n",
        "  data = [row for row in reader]\n",
        "\n",
        "for row in data:\n",
        "  print(row)\n",
        "\n",
        "with open('output.csv', 'w', newline='', encoding='utf-8') as f:\n",
        "  fieldnames = data[0].keys()\n",
        "  writer = csv.DictWriter(f, fieldnames=fieldnames)\n",
        "  writer.writeheader()\n",
        "  for row in data:\n",
        "    row['age'] = int(row['age']) + 1\n",
        "    writer.writerow(row)"
      ],
      "metadata": {
        "colab": {
          "base_uri": "https://localhost:8080/"
        },
        "id": "ajArkMQ0F-w9",
        "outputId": "d9f12fcc-747d-467d-c308-46f234c6c849"
      },
      "execution_count": 5,
      "outputs": [
        {
          "output_type": "stream",
          "name": "stdout",
          "text": [
            "{'name': 'Taro', 'age': '23', 'city': 'Tokyo'}\n",
            "{'name': 'Hanako', 'age': '31', 'city': 'Osaka'}\n",
            "{'name': 'Jiro', 'age': '27', 'city': 'Nagoya'}\n"
          ]
        }
      ]
    },
    {
      "cell_type": "code",
      "source": [
        "with open('output.csv', newline='', encoding='utf-8') as f:\n",
        "  reader = csv.DictReader(f)\n",
        "  data = [row for row in reader]\n",
        "\n",
        "for row in data:\n",
        "  print(row)"
      ],
      "metadata": {
        "colab": {
          "base_uri": "https://localhost:8080/"
        },
        "id": "cYMPGzV1HuH5",
        "outputId": "83f70af5-04da-4262-819d-1ca9e8e07155"
      },
      "execution_count": 8,
      "outputs": [
        {
          "output_type": "stream",
          "name": "stdout",
          "text": [
            "{'name': 'Taro', 'age': '24', 'city': 'Tokyo'}\n",
            "{'name': 'Hanako', 'age': '32', 'city': 'Osaka'}\n",
            "{'name': 'Jiro', 'age': '28', 'city': 'Nagoya'}\n"
          ]
        }
      ]
    }
  ]
}